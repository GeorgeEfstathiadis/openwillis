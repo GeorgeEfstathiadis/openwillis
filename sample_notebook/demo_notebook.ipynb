{
 "cells": [
  {
   "cell_type": "markdown",
   "id": "5946dc15",
   "metadata": {},
   "source": [
    "**Table of Contents**\n",
    "\n",
    "1. <a href='#intro'> Introduction  </a>\n",
    "2. <a href='#lib'> Load libraries </a>\n",
    "3. <a href='#lmk'> Facial Landmarks </a>\n",
    "4. <a href='#emo'> Facial Emotion </a>\n",
    "5. <a href='#aco'> Vocal Acoustic </a>\n",
    "6. <a href='#trans'> Speech Transcription </a>\n",
    "7. <a href='#s_char'> Speech Characteristics </a>\n",
    "8. <a href='#s_sep'> Speaker Separation: Batch </a>\n",
    "9. <a href='#s_sep_stream'> Speaker Separation: Stream </a>"
   ]
  },
  {
   "cell_type": "markdown",
   "id": "e1a66879",
   "metadata": {},
   "source": [
    "<a id='intro'></a> \n",
    "### 1. Introduction"
   ]
  },
  {
   "cell_type": "markdown",
   "id": "ad169f1c",
   "metadata": {},
   "source": [
    "Digital measurement of health......."
   ]
  },
  {
   "cell_type": "markdown",
   "id": "e47f98b0",
   "metadata": {},
   "source": [
    "<a id='lib'></a> \n",
    "### 2. Load libraries"
   ]
  },
  {
   "cell_type": "code",
   "execution_count": 1,
   "id": "9b988843",
   "metadata": {},
   "outputs": [],
   "source": [
    "import openwillis as ow"
   ]
  },
  {
   "cell_type": "markdown",
   "id": "c8af7a88",
   "metadata": {},
   "source": [
    "<a id='lmk'></a> \n",
    "### 3. Facial Landmarks"
   ]
  },
  {
   "cell_type": "markdown",
   "id": "d59af5d1",
   "metadata": {},
   "source": [
    "Facial landmark detection and facial expressivity analysis\n",
    "\n",
    "This function uses mediapipe’s facemesh solution to quantify the framewise 3D positioning of 4768 facial landmarks. It then calculates framewise displacement of those landmarks to quantify movement in facial musculature as a proxy measure of overall facial expressivity.\n"
   ]
  },
  {
   "cell_type": "code",
   "execution_count": 4,
   "id": "74f0c0c6",
   "metadata": {},
   "outputs": [],
   "source": [
    "#Baseline is optional\n",
    "framewise_loc, framewise_disp, summary = ow.facial_expressivity('data/subj01.mp4', 'data/subj01_base.mp4')"
   ]
  },
  {
   "cell_type": "code",
   "execution_count": 6,
   "id": "503a92d1",
   "metadata": {},
   "outputs": [
    {
     "data": {
      "text/html": [
       "<div>\n",
       "<style scoped>\n",
       "    .dataframe tbody tr th:only-of-type {\n",
       "        vertical-align: middle;\n",
       "    }\n",
       "\n",
       "    .dataframe tbody tr th {\n",
       "        vertical-align: top;\n",
       "    }\n",
       "\n",
       "    .dataframe thead th {\n",
       "        text-align: right;\n",
       "    }\n",
       "</style>\n",
       "<table border=\"1\" class=\"dataframe\">\n",
       "  <thead>\n",
       "    <tr style=\"text-align: right;\">\n",
       "      <th></th>\n",
       "      <th>frame</th>\n",
       "      <th>lmk000_x</th>\n",
       "      <th>lmk001_x</th>\n",
       "      <th>lmk002_x</th>\n",
       "      <th>lmk003_x</th>\n",
       "      <th>lmk004_x</th>\n",
       "      <th>lmk005_x</th>\n",
       "      <th>lmk006_x</th>\n",
       "      <th>lmk007_x</th>\n",
       "      <th>lmk008_x</th>\n",
       "      <th>...</th>\n",
       "      <th>lmk458_z</th>\n",
       "      <th>lmk459_z</th>\n",
       "      <th>lmk460_z</th>\n",
       "      <th>lmk461_z</th>\n",
       "      <th>lmk462_z</th>\n",
       "      <th>lmk463_z</th>\n",
       "      <th>lmk464_z</th>\n",
       "      <th>lmk465_z</th>\n",
       "      <th>lmk466_z</th>\n",
       "      <th>lmk467_z</th>\n",
       "    </tr>\n",
       "  </thead>\n",
       "  <tbody>\n",
       "    <tr>\n",
       "      <th>0</th>\n",
       "      <td>0</td>\n",
       "      <td>0.533611</td>\n",
       "      <td>0.534253</td>\n",
       "      <td>0.533953</td>\n",
       "      <td>0.524744</td>\n",
       "      <td>0.534268</td>\n",
       "      <td>0.534301</td>\n",
       "      <td>0.534436</td>\n",
       "      <td>0.458334</td>\n",
       "      <td>0.534459</td>\n",
       "      <td>...</td>\n",
       "      <td>-0.048058</td>\n",
       "      <td>-0.047221</td>\n",
       "      <td>-0.021558</td>\n",
       "      <td>-0.051052</td>\n",
       "      <td>-0.037351</td>\n",
       "      <td>0.004636</td>\n",
       "      <td>-0.002157</td>\n",
       "      <td>-0.010473</td>\n",
       "      <td>0.010571</td>\n",
       "      <td>0.010526</td>\n",
       "    </tr>\n",
       "    <tr>\n",
       "      <th>1</th>\n",
       "      <td>1</td>\n",
       "      <td>0.533908</td>\n",
       "      <td>0.534034</td>\n",
       "      <td>0.534066</td>\n",
       "      <td>0.524676</td>\n",
       "      <td>0.533993</td>\n",
       "      <td>0.534129</td>\n",
       "      <td>0.534511</td>\n",
       "      <td>0.458254</td>\n",
       "      <td>0.534685</td>\n",
       "      <td>...</td>\n",
       "      <td>-0.048947</td>\n",
       "      <td>-0.048006</td>\n",
       "      <td>-0.021910</td>\n",
       "      <td>-0.051918</td>\n",
       "      <td>-0.038112</td>\n",
       "      <td>0.005045</td>\n",
       "      <td>-0.001838</td>\n",
       "      <td>-0.010256</td>\n",
       "      <td>0.011397</td>\n",
       "      <td>0.011328</td>\n",
       "    </tr>\n",
       "  </tbody>\n",
       "</table>\n",
       "<p>2 rows × 1405 columns</p>\n",
       "</div>"
      ],
      "text/plain": [
       "   frame  lmk000_x  lmk001_x  lmk002_x  lmk003_x  lmk004_x  lmk005_x  \\\n",
       "0      0  0.533611  0.534253  0.533953  0.524744  0.534268  0.534301   \n",
       "1      1  0.533908  0.534034  0.534066  0.524676  0.533993  0.534129   \n",
       "\n",
       "   lmk006_x  lmk007_x  lmk008_x  ...  lmk458_z  lmk459_z  lmk460_z  lmk461_z  \\\n",
       "0  0.534436  0.458334  0.534459  ... -0.048058 -0.047221 -0.021558 -0.051052   \n",
       "1  0.534511  0.458254  0.534685  ... -0.048947 -0.048006 -0.021910 -0.051918   \n",
       "\n",
       "   lmk462_z  lmk463_z  lmk464_z  lmk465_z  lmk466_z  lmk467_z  \n",
       "0 -0.037351  0.004636 -0.002157 -0.010473  0.010571  0.010526  \n",
       "1 -0.038112  0.005045 -0.001838 -0.010256  0.011397  0.011328  \n",
       "\n",
       "[2 rows x 1405 columns]"
      ]
     },
     "execution_count": 6,
     "metadata": {},
     "output_type": "execute_result"
    }
   ],
   "source": [
    "framewise_loc.head(2)"
   ]
  },
  {
   "cell_type": "code",
   "execution_count": null,
   "id": "a007b817",
   "metadata": {},
   "outputs": [],
   "source": []
  },
  {
   "cell_type": "markdown",
   "id": "6eebfa0b",
   "metadata": {},
   "source": [
    "<a id='emo'></a> \n",
    "### 4. Facial Emotion"
   ]
  },
  {
   "cell_type": "markdown",
   "id": "74466e80",
   "metadata": {},
   "source": [
    "Facial emotion detection and analysis\n",
    "\n",
    "This function uses serengil/deepface to quantify the framewise expressivity of facial emotions, specifically happiness, sadness, anger, fear, disgust, and surprise – in addition to measuring the absence of any emotion (neutral). The summary output provides overall measurements for the input.\n"
   ]
  },
  {
   "cell_type": "code",
   "execution_count": 13,
   "id": "8a86ae8e",
   "metadata": {},
   "outputs": [],
   "source": [
    "#Baseline is optional\n",
    "framewise, summary = ow.emotional_expressivity('data/subj01.mp4', 'data/subj01_base.mp4')"
   ]
  },
  {
   "cell_type": "code",
   "execution_count": 12,
   "id": "197f29af",
   "metadata": {},
   "outputs": [
    {
     "data": {
      "text/html": [
       "<div>\n",
       "<style scoped>\n",
       "    .dataframe tbody tr th:only-of-type {\n",
       "        vertical-align: middle;\n",
       "    }\n",
       "\n",
       "    .dataframe tbody tr th {\n",
       "        vertical-align: top;\n",
       "    }\n",
       "\n",
       "    .dataframe thead th {\n",
       "        text-align: right;\n",
       "    }\n",
       "</style>\n",
       "<table border=\"1\" class=\"dataframe\">\n",
       "  <thead>\n",
       "    <tr style=\"text-align: right;\">\n",
       "      <th></th>\n",
       "      <th>frame</th>\n",
       "      <th>angry</th>\n",
       "      <th>disgust</th>\n",
       "      <th>fear</th>\n",
       "      <th>happiness</th>\n",
       "      <th>sadness</th>\n",
       "      <th>surprise</th>\n",
       "      <th>neutral</th>\n",
       "      <th>composite</th>\n",
       "    </tr>\n",
       "  </thead>\n",
       "  <tbody>\n",
       "    <tr>\n",
       "      <th>0</th>\n",
       "      <td>0</td>\n",
       "      <td>0.051450</td>\n",
       "      <td>0.000031</td>\n",
       "      <td>0.250485</td>\n",
       "      <td>-0.113090</td>\n",
       "      <td>0.638163</td>\n",
       "      <td>-0.000234</td>\n",
       "      <td>-0.446323</td>\n",
       "      <td>0.137801</td>\n",
       "    </tr>\n",
       "    <tr>\n",
       "      <th>1</th>\n",
       "      <td>1</td>\n",
       "      <td>0.006272</td>\n",
       "      <td>-0.000004</td>\n",
       "      <td>0.281984</td>\n",
       "      <td>-0.113109</td>\n",
       "      <td>0.662542</td>\n",
       "      <td>-0.000263</td>\n",
       "      <td>-0.452403</td>\n",
       "      <td>0.139570</td>\n",
       "    </tr>\n",
       "  </tbody>\n",
       "</table>\n",
       "</div>"
      ],
      "text/plain": [
       "   frame     angry   disgust      fear  happiness   sadness  surprise  \\\n",
       "0      0  0.051450  0.000031  0.250485  -0.113090  0.638163 -0.000234   \n",
       "1      1  0.006272 -0.000004  0.281984  -0.113109  0.662542 -0.000263   \n",
       "\n",
       "    neutral  composite  \n",
       "0 -0.446323   0.137801  \n",
       "1 -0.452403   0.139570  "
      ]
     },
     "execution_count": 12,
     "metadata": {},
     "output_type": "execute_result"
    }
   ],
   "source": [
    "framewise.head(2)"
   ]
  },
  {
   "cell_type": "markdown",
   "id": "e38b7f6e",
   "metadata": {},
   "source": [
    "<a id='aco'></a> \n",
    "### 5. Vocal Acoustic"
   ]
  },
  {
   "cell_type": "markdown",
   "id": "6e16519d",
   "metadata": {},
   "source": [
    "Vocal acoustic analysis"
   ]
  },
  {
   "cell_type": "code",
   "execution_count": 14,
   "id": "9737a097",
   "metadata": {},
   "outputs": [],
   "source": [
    "framewise, pauses, summary = ow.vocal_acoustics('data/trim.wav')"
   ]
  },
  {
   "cell_type": "code",
   "execution_count": 18,
   "id": "cee92e54",
   "metadata": {},
   "outputs": [
    {
     "data": {
      "text/html": [
       "<div>\n",
       "<style scoped>\n",
       "    .dataframe tbody tr th:only-of-type {\n",
       "        vertical-align: middle;\n",
       "    }\n",
       "\n",
       "    .dataframe tbody tr th {\n",
       "        vertical-align: top;\n",
       "    }\n",
       "\n",
       "    .dataframe thead th {\n",
       "        text-align: right;\n",
       "    }\n",
       "</style>\n",
       "<table border=\"1\" class=\"dataframe\">\n",
       "  <thead>\n",
       "    <tr style=\"text-align: right;\">\n",
       "      <th></th>\n",
       "      <th>f0</th>\n",
       "      <th>loudness</th>\n",
       "      <th>hnr</th>\n",
       "      <th>form1freq</th>\n",
       "      <th>form2freq</th>\n",
       "      <th>form3freq</th>\n",
       "      <th>form4freq</th>\n",
       "    </tr>\n",
       "  </thead>\n",
       "  <tbody>\n",
       "    <tr>\n",
       "      <th>0</th>\n",
       "      <td>107.723057</td>\n",
       "      <td>49.712931</td>\n",
       "      <td>7.878497</td>\n",
       "      <td>439.767344</td>\n",
       "      <td>1720.286908</td>\n",
       "      <td>2662.749904</td>\n",
       "      <td>4328.910656</td>\n",
       "    </tr>\n",
       "    <tr>\n",
       "      <th>1</th>\n",
       "      <td>105.881758</td>\n",
       "      <td>48.591601</td>\n",
       "      <td>9.100513</td>\n",
       "      <td>376.798630</td>\n",
       "      <td>2513.842458</td>\n",
       "      <td>2667.704351</td>\n",
       "      <td>4105.551045</td>\n",
       "    </tr>\n",
       "  </tbody>\n",
       "</table>\n",
       "</div>"
      ],
      "text/plain": [
       "           f0   loudness       hnr   form1freq    form2freq    form3freq  \\\n",
       "0  107.723057  49.712931  7.878497  439.767344  1720.286908  2662.749904   \n",
       "1  105.881758  48.591601  9.100513  376.798630  2513.842458  2667.704351   \n",
       "\n",
       "     form4freq  \n",
       "0  4328.910656  \n",
       "1  4105.551045  "
      ]
     },
     "execution_count": 18,
     "metadata": {},
     "output_type": "execute_result"
    }
   ],
   "source": [
    "framewise.head(2)"
   ]
  },
  {
   "cell_type": "markdown",
   "id": "f28423fe",
   "metadata": {},
   "source": [
    "<a id='trans'></a> \n",
    "### 6. Speech Transcription"
   ]
  },
  {
   "cell_type": "markdown",
   "id": "736393a0",
   "metadata": {},
   "source": [
    "Vosk is an open source speech recognition toolkit, which supports speech recognition for 20+ languages\n",
    "\n",
    "Language: {'Indian English':'en-in', 'Chinese':'cn', 'Russian':'ru', 'French':'fr', 'German':'de', 'Spanish':'es', 'Portuguese/Brazilian Portuguese':'pt', 'Greek':'gr', 'Turkish':'tr', 'Vietnamese':'vn', 'Italian':'it', 'Dutch':'nl', 'Catalan':'ca', 'Arabic':'ar', 'Farsi':'fa', 'Filipino':'ph', 'Ukrainian':'uk', 'Kazakh':'kz', 'Swedish':'sv', 'Japanese':'ja', 'Esperanto':'eo', 'Hindi':'hi', 'Czech':'cz', 'Polish':'pl'}"
   ]
  },
  {
   "cell_type": "code",
   "execution_count": 23,
   "id": "07887032",
   "metadata": {},
   "outputs": [],
   "source": [
    "json_interval, speech = ow.speech_transcription('data/trim.wav', 'en-us')"
   ]
  },
  {
   "cell_type": "code",
   "execution_count": null,
   "id": "1792d420",
   "metadata": {},
   "outputs": [],
   "source": []
  },
  {
   "cell_type": "markdown",
   "id": "725ff656",
   "metadata": {},
   "source": [
    "<a id='s_char'></a> \n",
    "### 7. Speech Characteristics"
   ]
  },
  {
   "cell_type": "markdown",
   "id": "e388ebf4",
   "metadata": {},
   "source": [
    "Speech characteristics related to health and functioning"
   ]
  },
  {
   "cell_type": "code",
   "execution_count": 31,
   "id": "a47e5dbd",
   "metadata": {},
   "outputs": [],
   "source": [
    "tag_event, speech_summary  = ow.speech_characteristics(json_interval, 'en-us')"
   ]
  },
  {
   "cell_type": "code",
   "execution_count": null,
   "id": "4eb37593",
   "metadata": {},
   "outputs": [],
   "source": []
  },
  {
   "cell_type": "markdown",
   "id": "2a5b3ccd",
   "metadata": {},
   "source": [
    "<a id='s_sep'></a> \n",
    "### 8. Speaker Separation: Batch "
   ]
  },
  {
   "cell_type": "markdown",
   "id": "53a4b150",
   "metadata": {},
   "source": [
    "Separation two speaker from mixed audio file\n",
    "\n",
    "- Fast Processing"
   ]
  },
  {
   "cell_type": "code",
   "execution_count": 5,
   "id": "4f3655cd",
   "metadata": {},
   "outputs": [],
   "source": [
    "diart_df = ow.speaker_separation('data/trim.wav', 'data/out_dir')"
   ]
  },
  {
   "cell_type": "code",
   "execution_count": 6,
   "id": "7d579cd2",
   "metadata": {},
   "outputs": [
    {
     "data": {
      "text/html": [
       "<div>\n",
       "<style scoped>\n",
       "    .dataframe tbody tr th:only-of-type {\n",
       "        vertical-align: middle;\n",
       "    }\n",
       "\n",
       "    .dataframe tbody tr th {\n",
       "        vertical-align: top;\n",
       "    }\n",
       "\n",
       "    .dataframe thead th {\n",
       "        text-align: right;\n",
       "    }\n",
       "</style>\n",
       "<table border=\"1\" class=\"dataframe\">\n",
       "  <thead>\n",
       "    <tr style=\"text-align: right;\">\n",
       "      <th></th>\n",
       "      <th>start_time</th>\n",
       "      <th>interval</th>\n",
       "      <th>speaker</th>\n",
       "      <th>filename</th>\n",
       "      <th>end_time</th>\n",
       "      <th>isOverlap</th>\n",
       "    </tr>\n",
       "  </thead>\n",
       "  <tbody>\n",
       "    <tr>\n",
       "      <th>0</th>\n",
       "      <td>0.009</td>\n",
       "      <td>1.143</td>\n",
       "      <td>speaker0</td>\n",
       "      <td>trim</td>\n",
       "      <td>1.152</td>\n",
       "      <td>0</td>\n",
       "    </tr>\n",
       "    <tr>\n",
       "      <th>1</th>\n",
       "      <td>7.358</td>\n",
       "      <td>0.450</td>\n",
       "      <td>speaker0</td>\n",
       "      <td>trim</td>\n",
       "      <td>7.808</td>\n",
       "      <td>0</td>\n",
       "    </tr>\n",
       "  </tbody>\n",
       "</table>\n",
       "</div>"
      ],
      "text/plain": [
       "   start_time  interval   speaker filename  end_time  isOverlap\n",
       "0       0.009     1.143  speaker0     trim     1.152          0\n",
       "1       7.358     0.450  speaker0     trim     7.808          0"
      ]
     },
     "execution_count": 6,
     "metadata": {},
     "output_type": "execute_result"
    }
   ],
   "source": [
    "diart_df.head(2)"
   ]
  },
  {
   "cell_type": "markdown",
   "id": "018a30b3",
   "metadata": {},
   "source": [
    "<a id='s_sep_stream'></a> \n",
    "### 8. Speaker Separation: Stream "
   ]
  },
  {
   "cell_type": "code",
   "execution_count": 2,
   "id": "9f998e39",
   "metadata": {},
   "outputs": [],
   "source": [
    "diart_df = ow.speaker_separation_stream('data/trim.wav', 'data/out_dir')"
   ]
  },
  {
   "cell_type": "code",
   "execution_count": null,
   "id": "8a57733e",
   "metadata": {},
   "outputs": [],
   "source": []
  },
  {
   "cell_type": "code",
   "execution_count": null,
   "id": "30983a56",
   "metadata": {},
   "outputs": [],
   "source": []
  }
 ],
 "metadata": {
  "kernelspec": {
   "display_name": "Python 3 (ipykernel)",
   "language": "python",
   "name": "python3"
  },
  "language_info": {
   "codemirror_mode": {
    "name": "ipython",
    "version": 3
   },
   "file_extension": ".py",
   "mimetype": "text/x-python",
   "name": "python",
   "nbconvert_exporter": "python",
   "pygments_lexer": "ipython3",
   "version": "3.9.5"
  }
 },
 "nbformat": 4,
 "nbformat_minor": 5
}
