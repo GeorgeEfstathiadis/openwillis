{
 "cells": [
  {
   "cell_type": "markdown",
   "id": "7a5011aa",
   "metadata": {},
   "source": [
    "**Table of Contents**\n",
    "\n",
    "1. <a href='#intro'> Introduction  </a>\n",
    "2. <a href='#lib'> Load libraries </a>\n",
    "3. <a href='#lmk'> Facial Landmarks </a>"
   ]
  },
  {
   "cell_type": "markdown",
   "id": "ba6f2a9f",
   "metadata": {},
   "source": [
    "<a id='intro'></a> \n",
    "### 1. Introduction"
   ]
  },
  {
   "cell_type": "markdown",
   "id": "d2d7a1b4",
   "metadata": {},
   "source": [
    "Digital measurement of health......."
   ]
  },
  {
   "cell_type": "markdown",
   "id": "aa1b6624",
   "metadata": {},
   "source": [
    "<a id='lib'></a> \n",
    "### 2. Load libraries"
   ]
  },
  {
   "cell_type": "code",
   "execution_count": 1,
   "id": "8d89e061",
   "metadata": {},
   "outputs": [],
   "source": [
    "import openwillis as ow"
   ]
  },
  {
   "cell_type": "code",
   "execution_count": 10,
   "id": "4877a763",
   "metadata": {},
   "outputs": [],
   "source": [
    "#framewise_loc, framewise_disp, summary = ow.faciallandmarks('data/subj01_timepoint01.webm', 'data/img1.jpg')"
   ]
  },
  {
   "cell_type": "code",
   "execution_count": null,
   "id": "875cf8a4",
   "metadata": {},
   "outputs": [],
   "source": []
  },
  {
   "cell_type": "code",
   "execution_count": 5,
   "id": "5fbcf5d7",
   "metadata": {},
   "outputs": [],
   "source": [
    "#dd1, dd2, dd3, uu = ow.vocalacoustics('data/ar-02.wav')"
   ]
  },
  {
   "cell_type": "code",
   "execution_count": null,
   "id": "b384e155",
   "metadata": {},
   "outputs": [],
   "source": []
  },
  {
   "cell_type": "code",
   "execution_count": null,
   "id": "8c44e8f6",
   "metadata": {},
   "outputs": [],
   "source": [
    "f1,f2 = ow.facialemotions('data/subj01_timepoint01.mp4', 'data/img2.jpg')"
   ]
  },
  {
   "cell_type": "code",
   "execution_count": 4,
   "id": "b2770a26",
   "metadata": {},
   "outputs": [
    {
     "data": {
      "text/html": [
       "<div>\n",
       "<style scoped>\n",
       "    .dataframe tbody tr th:only-of-type {\n",
       "        vertical-align: middle;\n",
       "    }\n",
       "\n",
       "    .dataframe tbody tr th {\n",
       "        vertical-align: top;\n",
       "    }\n",
       "\n",
       "    .dataframe thead th {\n",
       "        text-align: right;\n",
       "    }\n",
       "</style>\n",
       "<table border=\"1\" class=\"dataframe\">\n",
       "  <thead>\n",
       "    <tr style=\"text-align: right;\">\n",
       "      <th></th>\n",
       "      <th>frame</th>\n",
       "      <th>timestamp</th>\n",
       "      <th>angry</th>\n",
       "      <th>disgust</th>\n",
       "      <th>fear</th>\n",
       "      <th>happy</th>\n",
       "      <th>sad</th>\n",
       "      <th>surprise</th>\n",
       "      <th>neutral</th>\n",
       "      <th>composite_expressivity</th>\n",
       "    </tr>\n",
       "  </thead>\n",
       "  <tbody>\n",
       "    <tr>\n",
       "      <th>0</th>\n",
       "      <td>0</td>\n",
       "      <td>0.000000</td>\n",
       "      <td>0.049556</td>\n",
       "      <td>3.479430e-05</td>\n",
       "      <td>0.257431</td>\n",
       "      <td>2.152745e-05</td>\n",
       "      <td>0.486893</td>\n",
       "      <td>2.974827e-05</td>\n",
       "      <td>0.014682</td>\n",
       "      <td>0.793966</td>\n",
       "    </tr>\n",
       "    <tr>\n",
       "      <th>1</th>\n",
       "      <td>1</td>\n",
       "      <td>0.033333</td>\n",
       "      <td>0.006298</td>\n",
       "      <td>6.470567e-09</td>\n",
       "      <td>0.288896</td>\n",
       "      <td>4.871963e-07</td>\n",
       "      <td>0.505029</td>\n",
       "      <td>1.155723e-06</td>\n",
       "      <td>0.007573</td>\n",
       "      <td>0.800224</td>\n",
       "    </tr>\n",
       "    <tr>\n",
       "      <th>2</th>\n",
       "      <td>2</td>\n",
       "      <td>0.066667</td>\n",
       "      <td>0.030747</td>\n",
       "      <td>1.875302e-06</td>\n",
       "      <td>0.561453</td>\n",
       "      <td>1.048332e-05</td>\n",
       "      <td>0.281614</td>\n",
       "      <td>6.592837e-05</td>\n",
       "      <td>0.010642</td>\n",
       "      <td>0.873892</td>\n",
       "    </tr>\n",
       "    <tr>\n",
       "      <th>3</th>\n",
       "      <td>3</td>\n",
       "      <td>0.100000</td>\n",
       "      <td>0.012614</td>\n",
       "      <td>3.285836e-09</td>\n",
       "      <td>0.051665</td>\n",
       "      <td>1.360629e-06</td>\n",
       "      <td>0.660214</td>\n",
       "      <td>1.318232e-07</td>\n",
       "      <td>0.020576</td>\n",
       "      <td>0.724494</td>\n",
       "    </tr>\n",
       "    <tr>\n",
       "      <th>4</th>\n",
       "      <td>4</td>\n",
       "      <td>0.133333</td>\n",
       "      <td>0.008830</td>\n",
       "      <td>2.713463e-09</td>\n",
       "      <td>0.069682</td>\n",
       "      <td>1.315291e-06</td>\n",
       "      <td>0.653747</td>\n",
       "      <td>1.146045e-07</td>\n",
       "      <td>0.017173</td>\n",
       "      <td>0.732261</td>\n",
       "    </tr>\n",
       "    <tr>\n",
       "      <th>...</th>\n",
       "      <td>...</td>\n",
       "      <td>...</td>\n",
       "      <td>...</td>\n",
       "      <td>...</td>\n",
       "      <td>...</td>\n",
       "      <td>...</td>\n",
       "      <td>...</td>\n",
       "      <td>...</td>\n",
       "      <td>...</td>\n",
       "      <td>...</td>\n",
       "    </tr>\n",
       "    <tr>\n",
       "      <th>153</th>\n",
       "      <td>153</td>\n",
       "      <td>5.100000</td>\n",
       "      <td>0.034028</td>\n",
       "      <td>5.925532e-08</td>\n",
       "      <td>0.194539</td>\n",
       "      <td>2.244562e-05</td>\n",
       "      <td>0.460012</td>\n",
       "      <td>1.387068e-05</td>\n",
       "      <td>0.088349</td>\n",
       "      <td>0.688616</td>\n",
       "    </tr>\n",
       "    <tr>\n",
       "      <th>154</th>\n",
       "      <td>154</td>\n",
       "      <td>5.133333</td>\n",
       "      <td>0.018259</td>\n",
       "      <td>2.524577e-09</td>\n",
       "      <td>0.159970</td>\n",
       "      <td>5.065175e-06</td>\n",
       "      <td>0.445170</td>\n",
       "      <td>1.481589e-06</td>\n",
       "      <td>0.133682</td>\n",
       "      <td>0.623406</td>\n",
       "    </tr>\n",
       "    <tr>\n",
       "      <th>155</th>\n",
       "      <td>155</td>\n",
       "      <td>5.166667</td>\n",
       "      <td>0.018418</td>\n",
       "      <td>1.302429e-08</td>\n",
       "      <td>0.192928</td>\n",
       "      <td>1.027518e-05</td>\n",
       "      <td>0.455077</td>\n",
       "      <td>3.775984e-06</td>\n",
       "      <td>0.103978</td>\n",
       "      <td>0.666436</td>\n",
       "    </tr>\n",
       "    <tr>\n",
       "      <th>156</th>\n",
       "      <td>156</td>\n",
       "      <td>5.200000</td>\n",
       "      <td>0.014304</td>\n",
       "      <td>1.696527e-06</td>\n",
       "      <td>0.168340</td>\n",
       "      <td>1.584983e-05</td>\n",
       "      <td>0.554219</td>\n",
       "      <td>9.444745e-05</td>\n",
       "      <td>0.036597</td>\n",
       "      <td>0.736974</td>\n",
       "    </tr>\n",
       "    <tr>\n",
       "      <th>157</th>\n",
       "      <td>157</td>\n",
       "      <td>5.233333</td>\n",
       "      <td>0.036294</td>\n",
       "      <td>7.936680e-08</td>\n",
       "      <td>0.227644</td>\n",
       "      <td>1.199834e-05</td>\n",
       "      <td>0.452091</td>\n",
       "      <td>1.091443e-05</td>\n",
       "      <td>0.072586</td>\n",
       "      <td>0.716052</td>\n",
       "    </tr>\n",
       "  </tbody>\n",
       "</table>\n",
       "<p>158 rows × 10 columns</p>\n",
       "</div>"
      ],
      "text/plain": [
       "     frame  timestamp     angry       disgust      fear         happy  \\\n",
       "0        0   0.000000  0.049556  3.479430e-05  0.257431  2.152745e-05   \n",
       "1        1   0.033333  0.006298  6.470567e-09  0.288896  4.871963e-07   \n",
       "2        2   0.066667  0.030747  1.875302e-06  0.561453  1.048332e-05   \n",
       "3        3   0.100000  0.012614  3.285836e-09  0.051665  1.360629e-06   \n",
       "4        4   0.133333  0.008830  2.713463e-09  0.069682  1.315291e-06   \n",
       "..     ...        ...       ...           ...       ...           ...   \n",
       "153    153   5.100000  0.034028  5.925532e-08  0.194539  2.244562e-05   \n",
       "154    154   5.133333  0.018259  2.524577e-09  0.159970  5.065175e-06   \n",
       "155    155   5.166667  0.018418  1.302429e-08  0.192928  1.027518e-05   \n",
       "156    156   5.200000  0.014304  1.696527e-06  0.168340  1.584983e-05   \n",
       "157    157   5.233333  0.036294  7.936680e-08  0.227644  1.199834e-05   \n",
       "\n",
       "          sad      surprise   neutral  composite_expressivity  \n",
       "0    0.486893  2.974827e-05  0.014682                0.793966  \n",
       "1    0.505029  1.155723e-06  0.007573                0.800224  \n",
       "2    0.281614  6.592837e-05  0.010642                0.873892  \n",
       "3    0.660214  1.318232e-07  0.020576                0.724494  \n",
       "4    0.653747  1.146045e-07  0.017173                0.732261  \n",
       "..        ...           ...       ...                     ...  \n",
       "153  0.460012  1.387068e-05  0.088349                0.688616  \n",
       "154  0.445170  1.481589e-06  0.133682                0.623406  \n",
       "155  0.455077  3.775984e-06  0.103978                0.666436  \n",
       "156  0.554219  9.444745e-05  0.036597                0.736974  \n",
       "157  0.452091  1.091443e-05  0.072586                0.716052  \n",
       "\n",
       "[158 rows x 10 columns]"
      ]
     },
     "execution_count": 4,
     "metadata": {},
     "output_type": "execute_result"
    }
   ],
   "source": [
    "f1"
   ]
  },
  {
   "cell_type": "code",
   "execution_count": null,
   "id": "e4fc6a0a",
   "metadata": {},
   "outputs": [],
   "source": []
  },
  {
   "cell_type": "code",
   "execution_count": 6,
   "id": "3c3156fc",
   "metadata": {},
   "outputs": [
    {
     "data": {
      "text/html": [
       "<div>\n",
       "<style scoped>\n",
       "    .dataframe tbody tr th:only-of-type {\n",
       "        vertical-align: middle;\n",
       "    }\n",
       "\n",
       "    .dataframe tbody tr th {\n",
       "        vertical-align: top;\n",
       "    }\n",
       "\n",
       "    .dataframe thead th {\n",
       "        text-align: right;\n",
       "    }\n",
       "</style>\n",
       "<table border=\"1\" class=\"dataframe\">\n",
       "  <thead>\n",
       "    <tr style=\"text-align: right;\">\n",
       "      <th></th>\n",
       "      <th>angry</th>\n",
       "      <th>disgust</th>\n",
       "      <th>fear</th>\n",
       "      <th>frame</th>\n",
       "      <th>happy</th>\n",
       "      <th>neutral</th>\n",
       "      <th>sad</th>\n",
       "      <th>surprise</th>\n",
       "      <th>timestamp</th>\n",
       "    </tr>\n",
       "  </thead>\n",
       "  <tbody>\n",
       "    <tr>\n",
       "      <th>0</th>\n",
       "      <td>0.006841</td>\n",
       "      <td>115.790114</td>\n",
       "      <td>0.870312</td>\n",
       "      <td>NaN</td>\n",
       "      <td>7310.301393</td>\n",
       "      <td>1.461112</td>\n",
       "      <td>0.045289</td>\n",
       "      <td>32563.052213</td>\n",
       "      <td>NaN</td>\n",
       "    </tr>\n",
       "  </tbody>\n",
       "</table>\n",
       "</div>"
      ],
      "text/plain": [
       "      angry     disgust      fear  frame        happy   neutral       sad  \\\n",
       "0  0.006841  115.790114  0.870312    NaN  7310.301393  1.461112  0.045289   \n",
       "\n",
       "       surprise  timestamp  \n",
       "0  32563.052213        NaN  "
      ]
     },
     "execution_count": 6,
     "metadata": {},
     "output_type": "execute_result"
    }
   ],
   "source": [
    "f1[0].div(f1[1].iloc[0])"
   ]
  },
  {
   "cell_type": "code",
   "execution_count": 8,
   "id": "c67a0b56",
   "metadata": {},
   "outputs": [
    {
     "data": {
      "text/plain": [
       "112.56441146682403"
      ]
     },
     "execution_count": 8,
     "metadata": {},
     "output_type": "execute_result"
    }
   ],
   "source": [
    "0.000004/3.553521e-08"
   ]
  },
  {
   "cell_type": "code",
   "execution_count": 8,
   "id": "f7ca9799",
   "metadata": {},
   "outputs": [],
   "source": [
    "from deepface import DeepFace"
   ]
  },
  {
   "cell_type": "code",
   "execution_count": 9,
   "id": "b4dbf273",
   "metadata": {},
   "outputs": [],
   "source": [
    "face_analysis = DeepFace.analyze(img_path = \"data/img1.jpg\", actions = ['emotion'])"
   ]
  },
  {
   "cell_type": "code",
   "execution_count": 12,
   "id": "6b5f3021",
   "metadata": {},
   "outputs": [
    {
     "data": {
      "text/plain": [
       "{'emotion': {'angry': 0.04729155043605715,\n",
       "  'disgust': 0.00016433499467893853,\n",
       "  'fear': 0.45323516242206097,\n",
       "  'happy': 1.390456035733223,\n",
       "  'sad': 1.5063685365021229,\n",
       "  'surprise': 0.0012597676686709747,\n",
       "  'neutral': 96.60122394561768},\n",
       " 'dominant_emotion': 'neutral',\n",
       " 'region': {'x': 359, 'y': 410, 'w': 537, 'h': 537}}"
      ]
     },
     "execution_count": 12,
     "metadata": {},
     "output_type": "execute_result"
    }
   ],
   "source": [
    "face_analysis"
   ]
  },
  {
   "cell_type": "code",
   "execution_count": 19,
   "id": "2c1baafb",
   "metadata": {},
   "outputs": [],
   "source": [
    "import pandas as pd\n",
    "import cv2\n",
    "from deepface import DeepFace"
   ]
  },
  {
   "cell_type": "code",
   "execution_count": 27,
   "id": "e7bd1c99",
   "metadata": {},
   "outputs": [],
   "source": [
    "df_list = []\n",
    "frame = 0\n",
    "\n",
    "cap = cv2.VideoCapture('data/img1.jpg')\n",
    "fps = cap.get(cv2.CAP_PROP_FPS)"
   ]
  },
  {
   "cell_type": "code",
   "execution_count": 28,
   "id": "e084117d",
   "metadata": {},
   "outputs": [],
   "source": [
    "while True:\n",
    "    ret_type, img = cap.read()\n",
    "    \n",
    "    if ret_type is not True:\n",
    "        break\n",
    "    df_common = pd.DataFrame([[frame,frame/fps]], columns=['frame', 'timestamp'])\n",
    "    frame +=1\n",
    "    \n",
    "    img_rgb = cv2.cvtColor(img, cv2.COLOR_BGR2RGB)\n",
    "    face_analysis = DeepFace.analyze(img_path = img, actions = ['emotion'])\n",
    "    df_emotion = pd.DataFrame([face_analysis['emotion'].values()], \n",
    "                              columns=face_analysis['emotion'].keys())/100\n",
    "    \n",
    "    df_combine = pd.concat([df_common, df_emotion], axis=1)\n",
    "    df_list.append(df_combine)"
   ]
  },
  {
   "cell_type": "code",
   "execution_count": null,
   "id": "df1e68c2",
   "metadata": {},
   "outputs": [],
   "source": [
    "df_combine['angry']+df_combine['disgust']+df_combine['fear']+df_combine['happy']+df_combine['sad']+df_combine['surprise']+df_combine['neutral']"
   ]
  },
  {
   "cell_type": "code",
   "execution_count": null,
   "id": "da2d9737",
   "metadata": {},
   "outputs": [],
   "source": []
  }
 ],
 "metadata": {
  "kernelspec": {
   "display_name": "Python 3",
   "language": "python",
   "name": "python3"
  },
  "language_info": {
   "codemirror_mode": {
    "name": "ipython",
    "version": 3
   },
   "file_extension": ".py",
   "mimetype": "text/x-python",
   "name": "python",
   "nbconvert_exporter": "python",
   "pygments_lexer": "ipython3",
   "version": "3.8.8"
  }
 },
 "nbformat": 4,
 "nbformat_minor": 5
}
