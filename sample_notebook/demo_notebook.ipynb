{
 "cells": [
  {
   "cell_type": "markdown",
   "id": "7a5011aa",
   "metadata": {},
   "source": [
    "**Table of Contents**\n",
    "\n",
    "1. <a href='#intro'> Introduction  </a>\n",
    "2. <a href='#lib'> Load libraries </a>\n",
    "3. <a href='#lmk'> Facial Landmarks </a>"
   ]
  },
  {
   "cell_type": "markdown",
   "id": "ba6f2a9f",
   "metadata": {},
   "source": [
    "<a id='intro'></a> \n",
    "### 1. Introduction"
   ]
  },
  {
   "cell_type": "markdown",
   "id": "d2d7a1b4",
   "metadata": {},
   "source": [
    "Digital measurement of health......."
   ]
  },
  {
   "cell_type": "markdown",
   "id": "aa1b6624",
   "metadata": {},
   "source": [
    "<a id='lib'></a> \n",
    "### 2. Load libraries"
   ]
  },
  {
   "cell_type": "code",
   "execution_count": 11,
   "id": "7ca3cf2b",
   "metadata": {},
   "outputs": [],
   "source": [
    "import openwillis"
   ]
  },
  {
   "cell_type": "markdown",
   "id": "a6cd1415",
   "metadata": {},
   "source": [
    "<a id='lmk'></a> \n",
    "### 3. Facial Landmarks"
   ]
  },
  {
   "cell_type": "markdown",
   "id": "817f0863",
   "metadata": {},
   "source": [
    "Facial landmark detection and facial expressivity analysis\n",
    "\n",
    "This function uses mediapipe’s facemesh solution to quantify the framewise 3D positioning of 4768 facial landmarks. It then calculates framewise displacement of those landmarks to quantify movement in facial musculature as a proxy measure of overall facial expressivity.\n"
   ]
  },
  {
   "cell_type": "code",
   "execution_count": 10,
   "id": "4877a763",
   "metadata": {},
   "outputs": [],
   "source": [
    "framewise_loc, framewise_disp, summary = openwillis.faciallandmarks('data/img1.jpg', '')"
   ]
  },
  {
   "cell_type": "code",
   "execution_count": 12,
   "id": "875cf8a4",
   "metadata": {},
   "outputs": [
    {
     "data": {
      "text/html": [
       "<div>\n",
       "<style scoped>\n",
       "    .dataframe tbody tr th:only-of-type {\n",
       "        vertical-align: middle;\n",
       "    }\n",
       "\n",
       "    .dataframe tbody tr th {\n",
       "        vertical-align: top;\n",
       "    }\n",
       "\n",
       "    .dataframe thead th {\n",
       "        text-align: right;\n",
       "    }\n",
       "</style>\n",
       "<table border=\"1\" class=\"dataframe\">\n",
       "  <thead>\n",
       "    <tr style=\"text-align: right;\">\n",
       "      <th></th>\n",
       "      <th>frame</th>\n",
       "      <th>timestamp</th>\n",
       "      <th>x_0</th>\n",
       "      <th>x_1</th>\n",
       "      <th>x_2</th>\n",
       "      <th>x_3</th>\n",
       "      <th>x_4</th>\n",
       "      <th>x_5</th>\n",
       "      <th>x_6</th>\n",
       "      <th>x_7</th>\n",
       "      <th>...</th>\n",
       "      <th>z_468</th>\n",
       "      <th>z_469</th>\n",
       "      <th>z_470</th>\n",
       "      <th>z_471</th>\n",
       "      <th>z_472</th>\n",
       "      <th>z_473</th>\n",
       "      <th>z_474</th>\n",
       "      <th>z_475</th>\n",
       "      <th>z_476</th>\n",
       "      <th>z_477</th>\n",
       "    </tr>\n",
       "  </thead>\n",
       "  <tbody>\n",
       "    <tr>\n",
       "      <th>0</th>\n",
       "      <td>0</td>\n",
       "      <td>1</td>\n",
       "      <td>0.514281</td>\n",
       "      <td>0.510713</td>\n",
       "      <td>0.512449</td>\n",
       "      <td>0.4869</td>\n",
       "      <td>0.507397</td>\n",
       "      <td>0.502654</td>\n",
       "      <td>0.491049</td>\n",
       "      <td>0.390575</td>\n",
       "      <td>...</td>\n",
       "      <td>0.011624</td>\n",
       "      <td>0.011624</td>\n",
       "      <td>0.011624</td>\n",
       "      <td>0.011624</td>\n",
       "      <td>0.011624</td>\n",
       "      <td>0.01479</td>\n",
       "      <td>0.01479</td>\n",
       "      <td>0.01479</td>\n",
       "      <td>0.01479</td>\n",
       "      <td>0.01479</td>\n",
       "    </tr>\n",
       "  </tbody>\n",
       "</table>\n",
       "<p>1 rows × 1436 columns</p>\n",
       "</div>"
      ],
      "text/plain": [
       "   frame  timestamp       x_0       x_1       x_2     x_3       x_4       x_5  \\\n",
       "0      0          1  0.514281  0.510713  0.512449  0.4869  0.507397  0.502654   \n",
       "\n",
       "        x_6       x_7  ...     z_468     z_469     z_470     z_471     z_472  \\\n",
       "0  0.491049  0.390575  ...  0.011624  0.011624  0.011624  0.011624  0.011624   \n",
       "\n",
       "     z_473    z_474    z_475    z_476    z_477  \n",
       "0  0.01479  0.01479  0.01479  0.01479  0.01479  \n",
       "\n",
       "[1 rows x 1436 columns]"
      ]
     },
     "execution_count": 12,
     "metadata": {},
     "output_type": "execute_result"
    }
   ],
   "source": [
    "framewise_loc.head()"
   ]
  },
  {
   "cell_type": "code",
   "execution_count": null,
   "id": "391fc40d",
   "metadata": {},
   "outputs": [],
   "source": []
  }
 ],
 "metadata": {
  "kernelspec": {
   "display_name": "Python 3",
   "language": "python",
   "name": "python3"
  },
  "language_info": {
   "codemirror_mode": {
    "name": "ipython",
    "version": 3
   },
   "file_extension": ".py",
   "mimetype": "text/x-python",
   "name": "python",
   "nbconvert_exporter": "python",
   "pygments_lexer": "ipython3",
   "version": "3.8.8"
  }
 },
 "nbformat": 4,
 "nbformat_minor": 5
}
